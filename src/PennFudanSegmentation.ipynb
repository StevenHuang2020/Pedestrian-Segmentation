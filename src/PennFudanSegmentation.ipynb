{
  "nbformat": 4,
  "nbformat_minor": 0,
  "metadata": {
    "colab": {
      "name": "PennFudanSegmentation",
      "provenance": [],
      "collapsed_sections": []
    },
    "kernelspec": {
      "name": "python3",
      "display_name": "Python 3"
    },
    "accelerator": "GPU"
  },
  "cells": [
    {
      "cell_type": "markdown",
      "metadata": {
        "id": "q3nt6674TqKm"
      },
      "source": [
        "# facial recognition"
      ]
    },
    {
      "cell_type": "code",
      "metadata": {
        "id": "AjHB74ksT1HO"
      },
      "source": [
        "from google.colab import drive\n",
        "drive.mount('/content/drive')"
      ],
      "execution_count": null,
      "outputs": []
    },
    {
      "cell_type": "code",
      "metadata": {
        "id": "Ct-Ygi71Tt4t"
      },
      "source": [
        "%cd /content/drive/My Drive/PennFudanMaskTrain\n",
        "!ls -la "
      ],
      "execution_count": null,
      "outputs": []
    },
    {
      "cell_type": "code",
      "metadata": {
        "id": "l_NBPT502gYK"
      },
      "source": [
        "!python ./mainTrainning.py -new > ./log/trainMain.log"
      ],
      "execution_count": null,
      "outputs": []
    },
    {
      "cell_type": "code",
      "metadata": {
        "id": "AKaLUenmVplK"
      },
      "source": [
        "!python ./mainTrainning.py > ./log/trainMain.log"
      ],
      "execution_count": null,
      "outputs": []
    },
    {
      "cell_type": "code",
      "metadata": {
        "id": "9dcZzW2EqptI"
      },
      "source": [
        "!python ./mainTrainning.py -e 100 > ./log/trainMain.log"
      ],
      "execution_count": null,
      "outputs": []
    },
    {
      "cell_type": "code",
      "metadata": {
        "id": "iDKAQvFD1lQ4"
      },
      "source": [
        "!python ./mainTrainning.py"
      ],
      "execution_count": null,
      "outputs": []
    },
    {
      "cell_type": "code",
      "metadata": {
        "id": "HzVi7xCRUSx5"
      },
      "source": [
        "!python ./mainTrainning.py -e 40 "
      ],
      "execution_count": null,
      "outputs": []
    },
    {
      "cell_type": "code",
      "metadata": {
        "id": "ORx0NxT66VEz",
        "outputId": "581bff92-84e8-49d1-ae83-c15591dcbc30",
        "colab": {
          "base_uri": "https://localhost:8080/",
          "height": 1000
        }
      },
      "source": [
        "!python ./mainTrainning.py -e 20 -lr -6"
      ],
      "execution_count": 9,
      "outputs": [
        {
          "output_type": "stream",
          "text": [
            "Maintraining start...\n",
            "newModel= False epoch= 20 lr= 1e-06\n",
            "tcmalloc: large alloc 2272788480 bytes == 0x7100000 @  0x7f43f38da1e7 0x7f43f00765e1 0x7f43f00df90d 0x7f43f00e0522 0x7f43f0177bce 0x50a7f5 0x50cfd6 0x507f24 0x509c50 0x50a64d 0x50cfd6 0x507f24 0x509c50 0x50a64d 0x50c1f4 0x509918 0x50a64d 0x50c1f4 0x509918 0x50a64d 0x50c1f4 0x509918 0x50a64d 0x50c1f4 0x507f24 0x50b053 0x634dd2 0x634e87 0x63863f 0x6391e1 0x4b0dc0\n",
            "tcmalloc: large alloc 2272788480 bytes == 0x8e880000 @  0x7f43f38da1e7 0x7f43f00765e1 0x7f43f00df90d 0x7f43f00e0522 0x7f43f0177bce 0x50a7f5 0x50cfd6 0x507f24 0x509c50 0x50a64d 0x50cfd6 0x507f24 0x509c50 0x50a64d 0x50c1f4 0x509918 0x50a64d 0x50c1f4 0x509918 0x50a64d 0x50c1f4 0x509918 0x50a64d 0x50c1f4 0x507f24 0x50b053 0x634dd2 0x634e87 0x63863f 0x6391e1 0x4b0dc0\n",
            "(34680, 256, 256)\n",
            "(34680, 256, 256)\n",
            "X.shape= (34680, 256, 256)\n",
            "Y.shape= (34680, 256, 256)\n",
            "tcmalloc: large alloc 1590951936 bytes == 0x116044000 @  0x7f43f38da1e7 0x7f43f00765e1 0x7f43f00dac78 0x7f43f00dad93 0x7f43f0165ed6 0x7f43f0166338 0x50c4de 0x507f24 0x509c50 0x50a64d 0x50cfd6 0x507f24 0x509c50 0x50a64d 0x50c1f4 0x58e809 0x4c9306 0x588114 0x58834e 0x5517c1 0x5a9eec 0x50a783 0x50c1f4 0x507f24 0x509c50 0x50a64d 0x50cfd6 0x509918 0x50a64d 0x50c1f4 0x509918\n",
            "tcmalloc: large alloc 1590951936 bytes == 0x19d7c4000 @  0x7f43f38da1e7 0x7f43f00765e1 0x7f43f00dac78 0x7f43f00dad93 0x7f43f0165ed6 0x7f43f0166338 0x50c4de 0x507f24 0x509c50 0x50a64d 0x50cfd6 0x507f24 0x509c50 0x50a64d 0x50c1f4 0x58e793 0x4c9306 0x588114 0x58834e 0x5517c1 0x5a9eec 0x50a783 0x50c1f4 0x507f24 0x509c50 0x50a64d 0x50cfd6 0x509918 0x50a64d 0x50c1f4 0x509918\n",
            "X_train.shape =  (24276, 256, 256, 1)\n",
            "y_train.shape =  (24276, 256, 256)\n",
            "X_test.shape =  (10404, 256, 256, 1)\n",
            "Y_test.shape =  (10404, 256, 256)\n",
            "input_shape =  (256, 256, 1)\n",
            "Orignial lr: 1e-07\n",
            "Epoch 1/20\n",
            "  2/152 [..............................] - ETA: 1:04 - loss: -0.2664 - accuracy: 0.8998WARNING:tensorflow:Callbacks method `on_train_batch_end` is slow compared to the batch time (batch time: 0.2041s vs `on_train_batch_end` time: 0.6478s). Check your callbacks.\n",
            "152/152 [==============================] - 155s 1s/step - loss: -0.2690 - accuracy: 0.8978 - val_loss: -0.2586 - val_accuracy: 0.8938\n",
            "Epoch 2/20\n",
            "152/152 [==============================] - 155s 1s/step - loss: -0.2690 - accuracy: 0.8978 - val_loss: -0.2586 - val_accuracy: 0.8938\n",
            "Epoch 3/20\n",
            "152/152 [==============================] - 155s 1s/step - loss: -0.2691 - accuracy: 0.8978 - val_loss: -0.2586 - val_accuracy: 0.8938\n",
            "Epoch 4/20\n",
            "152/152 [==============================] - 155s 1s/step - loss: -0.2689 - accuracy: 0.8978 - val_loss: -0.2586 - val_accuracy: 0.8938\n",
            "Epoch 5/20\n",
            "152/152 [==============================] - 155s 1s/step - loss: -0.2690 - accuracy: 0.8978 - val_loss: -0.2586 - val_accuracy: 0.8938\n",
            "Epoch 6/20\n",
            "152/152 [==============================] - 155s 1s/step - loss: -0.2689 - accuracy: 0.8978 - val_loss: -0.2586 - val_accuracy: 0.8938\n",
            "Epoch 7/20\n",
            "152/152 [==============================] - 155s 1s/step - loss: -0.2690 - accuracy: 0.8978 - val_loss: -0.2586 - val_accuracy: 0.8938\n",
            "Epoch 8/20\n",
            "152/152 [==============================] - 155s 1s/step - loss: -0.2691 - accuracy: 0.8978 - val_loss: -0.2586 - val_accuracy: 0.8938\n",
            "Epoch 9/20\n",
            "152/152 [==============================] - 155s 1s/step - loss: -0.2690 - accuracy: 0.8978 - val_loss: -0.2586 - val_accuracy: 0.8938\n",
            "Epoch 10/20\n",
            "152/152 [==============================] - 155s 1s/step - loss: -0.2691 - accuracy: 0.8978 - val_loss: -0.2586 - val_accuracy: 0.8938\n",
            "Epoch 11/20\n",
            "152/152 [==============================] - 155s 1s/step - loss: -0.2690 - accuracy: 0.8978 - val_loss: -0.2586 - val_accuracy: 0.8938\n",
            "Epoch 12/20\n",
            "152/152 [==============================] - 155s 1s/step - loss: -0.2691 - accuracy: 0.8978 - val_loss: -0.2586 - val_accuracy: 0.8938\n",
            "Epoch 13/20\n",
            "152/152 [==============================] - 155s 1s/step - loss: -0.2691 - accuracy: 0.8978 - val_loss: -0.2586 - val_accuracy: 0.8938\n",
            "Epoch 14/20\n",
            "152/152 [==============================] - 155s 1s/step - loss: -0.2691 - accuracy: 0.8978 - val_loss: -0.2586 - val_accuracy: 0.8938\n",
            "Epoch 15/20\n",
            "152/152 [==============================] - 155s 1s/step - loss: -0.2690 - accuracy: 0.8978 - val_loss: -0.2586 - val_accuracy: 0.8938\n",
            "Epoch 16/20\n",
            "152/152 [==============================] - 155s 1s/step - loss: -0.2688 - accuracy: 0.8978 - val_loss: -0.2586 - val_accuracy: 0.8938\n",
            "Epoch 17/20\n",
            "152/152 [==============================] - 155s 1s/step - loss: -0.2690 - accuracy: 0.8978 - val_loss: -0.2586 - val_accuracy: 0.8938\n",
            "Epoch 18/20\n",
            "152/152 [==============================] - 155s 1s/step - loss: -0.2690 - accuracy: 0.8978 - val_loss: -0.2586 - val_accuracy: 0.8938\n",
            "Epoch 19/20\n",
            "152/152 [==============================] - 155s 1s/step - loss: -0.2689 - accuracy: 0.8978 - val_loss: -0.2586 - val_accuracy: 0.8938\n",
            "Epoch 20/20\n",
            "152/152 [==============================] - 155s 1s/step - loss: -0.2690 - accuracy: 0.8978 - val_loss: -0.2586 - val_accuracy: 0.8938\n"
          ],
          "name": "stdout"
        }
      ]
    }
  ]
}