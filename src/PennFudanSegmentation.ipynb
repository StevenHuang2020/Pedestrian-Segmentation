{
  "nbformat": 4,
  "nbformat_minor": 0,
  "metadata": {
    "colab": {
      "name": "PennFudanSegmentation",
      "provenance": [],
      "collapsed_sections": []
    },
    "kernelspec": {
      "name": "python3",
      "display_name": "Python 3"
    },
    "accelerator": "GPU"
  },
  "cells": [
    {
      "cell_type": "markdown",
      "metadata": {
        "id": "q3nt6674TqKm",
        "colab_type": "text"
      },
      "source": [
        "# facial recognition"
      ]
    },
    {
      "cell_type": "code",
      "metadata": {
        "id": "AjHB74ksT1HO",
        "colab_type": "code",
        "colab": {
          "base_uri": "https://localhost:8080/",
          "height": 35
        },
        "outputId": "71082208-db1e-4657-f4d9-8fa79b295146"
      },
      "source": [
        "from google.colab import drive\n",
        "drive.mount('/content/drive')"
      ],
      "execution_count": 1,
      "outputs": [
        {
          "output_type": "stream",
          "text": [
            "Mounted at /content/drive\n"
          ],
          "name": "stdout"
        }
      ]
    },
    {
      "cell_type": "code",
      "metadata": {
        "id": "Ct-Ygi71Tt4t",
        "colab_type": "code",
        "colab": {}
      },
      "source": [
        "%cd /content/drive/My Drive/PennFudanMaskTrain\n",
        "!ls -la "
      ],
      "execution_count": null,
      "outputs": []
    },
    {
      "cell_type": "code",
      "metadata": {
        "id": "l_NBPT502gYK",
        "colab_type": "code",
        "colab": {}
      },
      "source": [
        "!python ./mainTrainning.py -new > ./log/trainMain.log"
      ],
      "execution_count": null,
      "outputs": []
    },
    {
      "cell_type": "code",
      "metadata": {
        "id": "AKaLUenmVplK",
        "colab_type": "code",
        "colab": {}
      },
      "source": [
        "!python ./mainTrainning.py > ./log/trainMain.log"
      ],
      "execution_count": null,
      "outputs": []
    },
    {
      "cell_type": "code",
      "metadata": {
        "id": "9dcZzW2EqptI",
        "colab_type": "code",
        "colab": {}
      },
      "source": [
        "!python ./mainTrainning.py -e 100 > ./log/trainMain.log"
      ],
      "execution_count": null,
      "outputs": []
    },
    {
      "cell_type": "code",
      "metadata": {
        "id": "iDKAQvFD1lQ4",
        "colab_type": "code",
        "colab": {}
      },
      "source": [
        "!python ./mainTrainning.py"
      ],
      "execution_count": null,
      "outputs": []
    },
    {
      "cell_type": "code",
      "metadata": {
        "id": "HzVi7xCRUSx5",
        "colab_type": "code",
        "colab": {
          "base_uri": "https://localhost:8080/",
          "height": 1000
        },
        "outputId": "c38be81e-21c1-4cbe-e9f6-1cecec0321ba"
      },
      "source": [
        "!python ./mainTrainning.py -e 40 -up"
      ],
      "execution_count": null,
      "outputs": [
        {
          "output_type": "stream",
          "text": [
            "2020-09-22 03:14:40.915932: I tensorflow/stream_executor/platform/default/dso_loader.cc:48] Successfully opened dynamic library libcudart.so.10.1\n",
            "Maintraining start...\n",
            "newModel= False epoch= 40 setLr= True\n",
            "tcmalloc: large alloc 2272788480 bytes == 0x5d10000 @  0x7ffa704531e7 0x7ffa6cbef5e1 0x7ffa6cc5890d 0x7ffa6cc59522 0x7ffa6ccf0bce 0x50a7f5 0x50cfd6 0x507f24 0x509c50 0x50a64d 0x50cfd6 0x507f24 0x509c50 0x50a64d 0x50c1f4 0x509918 0x50a64d 0x50c1f4 0x509918 0x50a64d 0x50c1f4 0x509918 0x50a64d 0x50c1f4 0x507f24 0x50b053 0x634dd2 0x634e87 0x63863f 0x6391e1 0x4b0dc0\n",
            "tcmalloc: large alloc 2272788480 bytes == 0x8d490000 @  0x7ffa704531e7 0x7ffa6cbef5e1 0x7ffa6cc5890d 0x7ffa6cc59522 0x7ffa6ccf0bce 0x50a7f5 0x50cfd6 0x507f24 0x509c50 0x50a64d 0x50cfd6 0x507f24 0x509c50 0x50a64d 0x50c1f4 0x509918 0x50a64d 0x50c1f4 0x509918 0x50a64d 0x50c1f4 0x509918 0x50a64d 0x50c1f4 0x507f24 0x50b053 0x634dd2 0x634e87 0x63863f 0x6391e1 0x4b0dc0\n",
            "(34680, 256, 256)\n",
            "(34680, 256, 256)\n",
            "X.shape= (34680, 256, 256)\n",
            "Y.shape= (34680, 256, 256)\n",
            "tcmalloc: large alloc 1590951936 bytes == 0x114c54000 @  0x7ffa704531e7 0x7ffa6cbef5e1 0x7ffa6cc53c78 0x7ffa6cc53d93 0x7ffa6ccdeed6 0x7ffa6ccdf338 0x50c4de 0x507f24 0x509c50 0x50a64d 0x50cfd6 0x507f24 0x509c50 0x50a64d 0x50c1f4 0x58e809 0x4c9306 0x588114 0x58834e 0x5517c1 0x5a9eec 0x50a783 0x50c1f4 0x507f24 0x509c50 0x50a64d 0x50cfd6 0x509918 0x50a64d 0x50c1f4 0x509918\n",
            "tcmalloc: large alloc 1590951936 bytes == 0x19c3d4000 @  0x7ffa704531e7 0x7ffa6cbef5e1 0x7ffa6cc53c78 0x7ffa6cc53d93 0x7ffa6ccdeed6 0x7ffa6ccdf338 0x50c4de 0x507f24 0x509c50 0x50a64d 0x50cfd6 0x507f24 0x509c50 0x50a64d 0x50c1f4 0x58e793 0x4c9306 0x588114 0x58834e 0x5517c1 0x5a9eec 0x50a783 0x50c1f4 0x507f24 0x509c50 0x50a64d 0x50cfd6 0x509918 0x50a64d 0x50c1f4 0x509918\n",
            "X_train.shape =  (24276, 256, 256, 1)\n",
            "y_train.shape =  (24276, 256, 256)\n",
            "X_test.shape =  (10404, 256, 256, 1)\n",
            "Y_test.shape =  (10404, 256, 256)\n",
            "input_shape =  (256, 256, 1)\n",
            "2020-09-22 03:16:51.212670: I tensorflow/stream_executor/platform/default/dso_loader.cc:48] Successfully opened dynamic library libcuda.so.1\n",
            "2020-09-22 03:16:51.283802: I tensorflow/stream_executor/cuda/cuda_gpu_executor.cc:982] successful NUMA node read from SysFS had negative value (-1), but there must be at least one NUMA node, so returning NUMA node zero\n",
            "2020-09-22 03:16:51.284417: I tensorflow/core/common_runtime/gpu/gpu_device.cc:1716] Found device 0 with properties: \n",
            "pciBusID: 0000:00:04.0 name: Tesla T4 computeCapability: 7.5\n",
            "coreClock: 1.59GHz coreCount: 40 deviceMemorySize: 14.73GiB deviceMemoryBandwidth: 298.08GiB/s\n",
            "2020-09-22 03:16:51.284468: I tensorflow/stream_executor/platform/default/dso_loader.cc:48] Successfully opened dynamic library libcudart.so.10.1\n",
            "2020-09-22 03:16:51.525987: I tensorflow/stream_executor/platform/default/dso_loader.cc:48] Successfully opened dynamic library libcublas.so.10\n",
            "2020-09-22 03:16:51.657434: I tensorflow/stream_executor/platform/default/dso_loader.cc:48] Successfully opened dynamic library libcufft.so.10\n",
            "2020-09-22 03:16:51.686171: I tensorflow/stream_executor/platform/default/dso_loader.cc:48] Successfully opened dynamic library libcurand.so.10\n",
            "2020-09-22 03:16:51.939098: I tensorflow/stream_executor/platform/default/dso_loader.cc:48] Successfully opened dynamic library libcusolver.so.10\n",
            "2020-09-22 03:16:51.984152: I tensorflow/stream_executor/platform/default/dso_loader.cc:48] Successfully opened dynamic library libcusparse.so.10\n",
            "2020-09-22 03:16:52.442201: I tensorflow/stream_executor/platform/default/dso_loader.cc:48] Successfully opened dynamic library libcudnn.so.7\n",
            "2020-09-22 03:16:52.442422: I tensorflow/stream_executor/cuda/cuda_gpu_executor.cc:982] successful NUMA node read from SysFS had negative value (-1), but there must be at least one NUMA node, so returning NUMA node zero\n",
            "2020-09-22 03:16:52.443099: I tensorflow/stream_executor/cuda/cuda_gpu_executor.cc:982] successful NUMA node read from SysFS had negative value (-1), but there must be at least one NUMA node, so returning NUMA node zero\n",
            "2020-09-22 03:16:52.443648: I tensorflow/core/common_runtime/gpu/gpu_device.cc:1858] Adding visible gpu devices: 0\n",
            "2020-09-22 03:16:52.512534: I tensorflow/core/platform/profile_utils/cpu_utils.cc:104] CPU Frequency: 2200000000 Hz\n",
            "2020-09-22 03:16:52.520031: I tensorflow/compiler/xla/service/service.cc:168] XLA service 0x1a7ad80 initialized for platform Host (this does not guarantee that XLA will be used). Devices:\n",
            "2020-09-22 03:16:52.520070: I tensorflow/compiler/xla/service/service.cc:176]   StreamExecutor device (0): Host, Default Version\n",
            "2020-09-22 03:16:52.667285: I tensorflow/stream_executor/cuda/cuda_gpu_executor.cc:982] successful NUMA node read from SysFS had negative value (-1), but there must be at least one NUMA node, so returning NUMA node zero\n",
            "2020-09-22 03:16:52.668079: I tensorflow/compiler/xla/service/service.cc:168] XLA service 0x1a7af40 initialized for platform CUDA (this does not guarantee that XLA will be used). Devices:\n",
            "2020-09-22 03:16:52.668118: I tensorflow/compiler/xla/service/service.cc:176]   StreamExecutor device (0): Tesla T4, Compute Capability 7.5\n",
            "2020-09-22 03:16:52.669326: I tensorflow/stream_executor/cuda/cuda_gpu_executor.cc:982] successful NUMA node read from SysFS had negative value (-1), but there must be at least one NUMA node, so returning NUMA node zero\n",
            "2020-09-22 03:16:52.669881: I tensorflow/core/common_runtime/gpu/gpu_device.cc:1716] Found device 0 with properties: \n",
            "pciBusID: 0000:00:04.0 name: Tesla T4 computeCapability: 7.5\n",
            "coreClock: 1.59GHz coreCount: 40 deviceMemorySize: 14.73GiB deviceMemoryBandwidth: 298.08GiB/s\n",
            "2020-09-22 03:16:52.669932: I tensorflow/stream_executor/platform/default/dso_loader.cc:48] Successfully opened dynamic library libcudart.so.10.1\n",
            "2020-09-22 03:16:52.670007: I tensorflow/stream_executor/platform/default/dso_loader.cc:48] Successfully opened dynamic library libcublas.so.10\n",
            "2020-09-22 03:16:52.670033: I tensorflow/stream_executor/platform/default/dso_loader.cc:48] Successfully opened dynamic library libcufft.so.10\n",
            "2020-09-22 03:16:52.670061: I tensorflow/stream_executor/platform/default/dso_loader.cc:48] Successfully opened dynamic library libcurand.so.10\n",
            "2020-09-22 03:16:52.670087: I tensorflow/stream_executor/platform/default/dso_loader.cc:48] Successfully opened dynamic library libcusolver.so.10\n",
            "2020-09-22 03:16:52.670111: I tensorflow/stream_executor/platform/default/dso_loader.cc:48] Successfully opened dynamic library libcusparse.so.10\n",
            "2020-09-22 03:16:52.670136: I tensorflow/stream_executor/platform/default/dso_loader.cc:48] Successfully opened dynamic library libcudnn.so.7\n",
            "2020-09-22 03:16:52.670225: I tensorflow/stream_executor/cuda/cuda_gpu_executor.cc:982] successful NUMA node read from SysFS had negative value (-1), but there must be at least one NUMA node, so returning NUMA node zero\n",
            "2020-09-22 03:16:52.670819: I tensorflow/stream_executor/cuda/cuda_gpu_executor.cc:982] successful NUMA node read from SysFS had negative value (-1), but there must be at least one NUMA node, so returning NUMA node zero\n",
            "2020-09-22 03:16:52.671315: I tensorflow/core/common_runtime/gpu/gpu_device.cc:1858] Adding visible gpu devices: 0\n",
            "2020-09-22 03:16:52.673393: I tensorflow/stream_executor/platform/default/dso_loader.cc:48] Successfully opened dynamic library libcudart.so.10.1\n",
            "2020-09-22 03:16:56.501784: I tensorflow/core/common_runtime/gpu/gpu_device.cc:1257] Device interconnect StreamExecutor with strength 1 edge matrix:\n",
            "2020-09-22 03:16:56.501846: I tensorflow/core/common_runtime/gpu/gpu_device.cc:1263]      0 \n",
            "2020-09-22 03:16:56.501870: I tensorflow/core/common_runtime/gpu/gpu_device.cc:1276] 0:   N \n",
            "2020-09-22 03:16:56.508882: I tensorflow/stream_executor/cuda/cuda_gpu_executor.cc:982] successful NUMA node read from SysFS had negative value (-1), but there must be at least one NUMA node, so returning NUMA node zero\n",
            "2020-09-22 03:16:56.509568: I tensorflow/stream_executor/cuda/cuda_gpu_executor.cc:982] successful NUMA node read from SysFS had negative value (-1), but there must be at least one NUMA node, so returning NUMA node zero\n",
            "2020-09-22 03:16:56.510163: W tensorflow/core/common_runtime/gpu/gpu_bfc_allocator.cc:39] Overriding allow_growth setting because the TF_FORCE_GPU_ALLOW_GROWTH environment variable is set. Original config value was 0.\n",
            "2020-09-22 03:16:56.510220: I tensorflow/core/common_runtime/gpu/gpu_device.cc:1402] Created TensorFlow device (/job:localhost/replica:0/task:0/device:GPU:0 with 13962 MB memory) -> physical GPU (device: 0, name: Tesla T4, pci bus id: 0000:00:04.0, compute capability: 7.5)\n",
            "Orignial lr: 1e-04\n",
            "2020-09-22 03:17:04.349947: I tensorflow/core/profiler/lib/profiler_session.cc:164] Profiler session started.\n",
            "2020-09-22 03:17:04.355110: I tensorflow/core/profiler/internal/gpu/cupti_tracer.cc:1391] Profiler found 1 GPUs\n",
            "2020-09-22 03:17:04.386010: I tensorflow/stream_executor/platform/default/dso_loader.cc:48] Successfully opened dynamic library libcupti.so.10.1\n",
            "2020-09-22 03:17:04.533542: I tensorflow/core/profiler/internal/gpu/cupti_tracer.cc:1513] CUPTI activity buffer flushed\n",
            "Epoch 1/40\n",
            "2020-09-22 03:17:06.777844: I tensorflow/stream_executor/platform/default/dso_loader.cc:48] Successfully opened dynamic library libcudnn.so.7\n",
            "2020-09-22 03:17:12.002530: I tensorflow/stream_executor/platform/default/dso_loader.cc:48] Successfully opened dynamic library libcublas.so.10\n",
            "2020-09-22 03:17:14.794243: W tensorflow/core/common_runtime/bfc_allocator.cc:246] Allocator (GPU_0_bfc) ran out of memory trying to allocate 3.53GiB with freed_by_count=0. The caller indicates that this is not a failure, but may mean that there could be performance gains if more memory were available.\n",
            "  1/152 [..............................] - ETA: 1s - loss: -0.2501 - accuracy: 0.88712020-09-22 03:17:19.541879: I tensorflow/core/profiler/lib/profiler_session.cc:164] Profiler session started.\n",
            "WARNING:tensorflow:From /usr/local/lib/python3.6/dist-packages/tensorflow/python/ops/summary_ops_v2.py:1277: stop (from tensorflow.python.eager.profiler) is deprecated and will be removed after 2020-07-01.\n",
            "Instructions for updating:\n",
            "use `tf.profiler.experimental.stop` instead.\n",
            "2020-09-22 03:17:20.382295: I tensorflow/core/profiler/internal/gpu/cupti_tracer.cc:1513] CUPTI activity buffer flushed\n",
            "2020-09-22 03:17:20.390737: I tensorflow/core/profiler/internal/gpu/device_tracer.cc:223]  GpuTracer has collected 861 callback api events and 861 activity events. \n",
            "2020-09-22 03:17:20.463102: I tensorflow/core/profiler/rpc/client/save_profile.cc:176] Creating directory: logs/fit/20200922-031704/train/plugins/profile/2020_09_22_03_17_20\n",
            "2020-09-22 03:17:20.484304: I tensorflow/core/profiler/rpc/client/save_profile.cc:182] Dumped gzipped tool data for trace.json.gz to logs/fit/20200922-031704/train/plugins/profile/2020_09_22_03_17_20/0072a1347014.trace.json.gz\n",
            "2020-09-22 03:17:20.535602: I tensorflow/core/profiler/rpc/client/save_profile.cc:176] Creating directory: logs/fit/20200922-031704/train/plugins/profile/2020_09_22_03_17_20\n",
            "2020-09-22 03:17:20.544139: I tensorflow/core/profiler/rpc/client/save_profile.cc:182] Dumped gzipped tool data for memory_profile.json.gz to logs/fit/20200922-031704/train/plugins/profile/2020_09_22_03_17_20/0072a1347014.memory_profile.json.gz\n",
            "2020-09-22 03:17:20.600405: I tensorflow/python/profiler/internal/profiler_wrapper.cc:111] Creating directory: logs/fit/20200922-031704/train/plugins/profile/2020_09_22_03_17_20Dumped tool data for xplane.pb to logs/fit/20200922-031704/train/plugins/profile/2020_09_22_03_17_20/0072a1347014.xplane.pb\n",
            "Dumped tool data for overview_page.pb to logs/fit/20200922-031704/train/plugins/profile/2020_09_22_03_17_20/0072a1347014.overview_page.pb\n",
            "Dumped tool data for input_pipeline.pb to logs/fit/20200922-031704/train/plugins/profile/2020_09_22_03_17_20/0072a1347014.input_pipeline.pb\n",
            "Dumped tool data for tensorflow_stats.pb to logs/fit/20200922-031704/train/plugins/profile/2020_09_22_03_17_20/0072a1347014.tensorflow_stats.pb\n",
            "Dumped tool data for kernel_stats.pb to logs/fit/20200922-031704/train/plugins/profile/2020_09_22_03_17_20/0072a1347014.kernel_stats.pb\n",
            "\n",
            "  2/152 [..............................] - ETA: 1:20 - loss: -0.2539 - accuracy: 0.8902WARNING:tensorflow:Callbacks method `on_train_batch_end` is slow compared to the batch time (batch time: 0.2099s vs `on_train_batch_end` time: 0.8535s). Check your callbacks.\n",
            "152/152 [==============================] - 149s 983ms/step - loss: -0.2559 - accuracy: 0.8917 - val_loss: -0.2459 - val_accuracy: 0.8880\n",
            "Epoch 2/40\n",
            "152/152 [==============================] - 154s 1s/step - loss: -0.2561 - accuracy: 0.8918 - val_loss: -0.2461 - val_accuracy: 0.8880\n",
            "Epoch 3/40\n",
            "152/152 [==============================] - 158s 1s/step - loss: -0.2562 - accuracy: 0.8918 - val_loss: -0.2464 - val_accuracy: 0.8881\n",
            "Epoch 4/40\n",
            "152/152 [==============================] - 159s 1s/step - loss: -0.2565 - accuracy: 0.8919 - val_loss: -0.2463 - val_accuracy: 0.8881\n",
            "Epoch 5/40\n",
            "152/152 [==============================] - 159s 1s/step - loss: -0.2567 - accuracy: 0.8920 - val_loss: -0.2464 - val_accuracy: 0.8879\n",
            "Epoch 6/40\n",
            "152/152 [==============================] - 160s 1s/step - loss: -0.2568 - accuracy: 0.8920 - val_loss: -0.2467 - val_accuracy: 0.8883\n",
            "Epoch 7/40\n",
            "152/152 [==============================] - 160s 1s/step - loss: -0.2567 - accuracy: 0.8921 - val_loss: -0.2468 - val_accuracy: 0.8883\n",
            "Epoch 8/40\n",
            "152/152 [==============================] - 158s 1s/step - loss: -0.2569 - accuracy: 0.8921 - val_loss: -0.2468 - val_accuracy: 0.8886\n",
            "Epoch 9/40\n",
            "152/152 [==============================] - 158s 1s/step - loss: -0.2571 - accuracy: 0.8922 - val_loss: -0.2471 - val_accuracy: 0.8884\n",
            "Epoch 10/40\n",
            "152/152 [==============================] - 158s 1s/step - loss: -0.2571 - accuracy: 0.8922 - val_loss: -0.2470 - val_accuracy: 0.8885\n",
            "Epoch 11/40\n",
            " 58/152 [==========>...................] - ETA: 1:28 - loss: -0.2536 - accuracy: 0.8938"
          ],
          "name": "stdout"
        }
      ]
    },
    {
      "cell_type": "code",
      "metadata": {
        "id": "ORx0NxT66VEz",
        "colab_type": "code",
        "colab": {}
      },
      "source": [
        "!python ./mainTrainning.py -e 40"
      ],
      "execution_count": null,
      "outputs": []
    }
  ]
}