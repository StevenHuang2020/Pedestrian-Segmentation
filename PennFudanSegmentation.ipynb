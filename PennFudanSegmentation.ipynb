{
  "nbformat": 4,
  "nbformat_minor": 0,
  "metadata": {
    "colab": {
      "name": "PennFudanSegmentation",
      "provenance": [],
      "collapsed_sections": []
    },
    "kernelspec": {
      "name": "python3",
      "display_name": "Python 3"
    },
    "accelerator": "GPU"
  },
  "cells": [
    {
      "cell_type": "markdown",
      "metadata": {
        "id": "q3nt6674TqKm",
        "colab_type": "text"
      },
      "source": [
        "# facial recognition"
      ]
    },
    {
      "cell_type": "code",
      "metadata": {
        "id": "AjHB74ksT1HO",
        "colab_type": "code",
        "colab": {}
      },
      "source": [
        "from google.colab import drive\n",
        "drive.mount('/content/drive')"
      ],
      "execution_count": null,
      "outputs": []
    },
    {
      "cell_type": "code",
      "metadata": {
        "id": "Ct-Ygi71Tt4t",
        "colab_type": "code",
        "colab": {}
      },
      "source": [
        "%cd /content/drive/My Drive/PennFudanMaskTrain\n",
        "!ls -la "
      ],
      "execution_count": null,
      "outputs": []
    },
    {
      "cell_type": "code",
      "metadata": {
        "id": "HzVi7xCRUSx5",
        "colab_type": "code",
        "colab": {}
      },
      "source": [
        "!python ./mainTrainning.py -e 1000"
      ],
      "execution_count": null,
      "outputs": []
    },
    {
      "cell_type": "code",
      "metadata": {
        "id": "l_NBPT502gYK",
        "colab_type": "code",
        "colab": {}
      },
      "source": [
        "!python ./mainTrainning.py -new >> ./log/trainMain.log"
      ],
      "execution_count": null,
      "outputs": []
    },
    {
      "cell_type": "code",
      "metadata": {
        "id": "AKaLUenmVplK",
        "colab_type": "code",
        "colab": {}
      },
      "source": [
        "!python ./mainTrainning.py >> ./log/trainMain.log"
      ],
      "execution_count": null,
      "outputs": []
    },
    {
      "cell_type": "code",
      "metadata": {
        "id": "9dcZzW2EqptI",
        "colab_type": "code",
        "colab": {}
      },
      "source": [
        "!python ./mainTrainning.py -e 100 >> ./log/trainMain.log"
      ],
      "execution_count": null,
      "outputs": []
    },
    {
      "cell_type": "code",
      "metadata": {
        "id": "iDKAQvFD1lQ4",
        "colab_type": "code",
        "colab": {}
      },
      "source": [
        "!python ./mainTrainning.py"
      ],
      "execution_count": null,
      "outputs": []
    }
  ]
}